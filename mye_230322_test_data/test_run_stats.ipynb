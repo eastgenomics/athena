{
 "cells": [
  {
   "cell_type": "code",
   "execution_count": 94,
   "metadata": {},
   "outputs": [],
   "source": [
    "import os\n",
    "import sys\n",
    "\n",
    "import numpy as np\n",
    "import pandas as pd\n",
    "\n"
   ]
  },
  {
   "cell_type": "code",
   "execution_count": 43,
   "metadata": {},
   "outputs": [],
   "source": [
    "\n",
    "sample1_gene_stats = pd.read_csv(\n",
    "    '2206462-22188Z0056-1-PB-MPD-MYE-M-EGG2_gene_stats.tsv',\n",
    "    sep=\"\\t\", comment='#')\n",
    "\n",
    "sample2_gene_stats = pd.read_csv(\n",
    "    '2206600-22193Z0004-1-PB-MPD-MYE-F-EGG2_gene_stats.tsv',\n",
    "    sep=\"\\t\", comment='#')\n"
   ]
  },
  {
   "cell_type": "code",
   "execution_count": 44,
   "metadata": {},
   "outputs": [
    {
     "data": {
      "text/html": [
       "<div>\n",
       "<style scoped>\n",
       "    .dataframe tbody tr th:only-of-type {\n",
       "        vertical-align: middle;\n",
       "    }\n",
       "\n",
       "    .dataframe tbody tr th {\n",
       "        vertical-align: top;\n",
       "    }\n",
       "\n",
       "    .dataframe thead th {\n",
       "        text-align: right;\n",
       "    }\n",
       "</style>\n",
       "<table border=\"1\" class=\"dataframe\">\n",
       "  <thead>\n",
       "    <tr style=\"text-align: right;\">\n",
       "      <th></th>\n",
       "      <th>gene</th>\n",
       "      <th>tx</th>\n",
       "      <th>min</th>\n",
       "      <th>mean</th>\n",
       "      <th>max</th>\n",
       "      <th>100x</th>\n",
       "      <th>250x</th>\n",
       "      <th>500x</th>\n",
       "      <th>1000x</th>\n",
       "      <th>1500x</th>\n",
       "    </tr>\n",
       "  </thead>\n",
       "  <tbody>\n",
       "    <tr>\n",
       "      <th>0</th>\n",
       "      <td>ANKRD26</td>\n",
       "      <td>NM_014915.3</td>\n",
       "      <td>903</td>\n",
       "      <td>1512.986100</td>\n",
       "      <td>1979</td>\n",
       "      <td>100.0</td>\n",
       "      <td>100.0</td>\n",
       "      <td>100.0</td>\n",
       "      <td>99.663180</td>\n",
       "      <td>56.709803</td>\n",
       "    </tr>\n",
       "    <tr>\n",
       "      <th>1</th>\n",
       "      <td>ARID1A</td>\n",
       "      <td>NM_006015.6</td>\n",
       "      <td>978</td>\n",
       "      <td>1769.361716</td>\n",
       "      <td>2128</td>\n",
       "      <td>100.0</td>\n",
       "      <td>100.0</td>\n",
       "      <td>100.0</td>\n",
       "      <td>99.943327</td>\n",
       "      <td>88.027770</td>\n",
       "    </tr>\n",
       "    <tr>\n",
       "      <th>2</th>\n",
       "      <td>ASXL1</td>\n",
       "      <td>NM_015338.6</td>\n",
       "      <td>1477</td>\n",
       "      <td>1831.989628</td>\n",
       "      <td>2139</td>\n",
       "      <td>100.0</td>\n",
       "      <td>100.0</td>\n",
       "      <td>100.0</td>\n",
       "      <td>100.000000</td>\n",
       "      <td>99.810765</td>\n",
       "    </tr>\n",
       "    <tr>\n",
       "      <th>3</th>\n",
       "      <td>ATM</td>\n",
       "      <td>NM_000051.4</td>\n",
       "      <td>905</td>\n",
       "      <td>1505.679038</td>\n",
       "      <td>1874</td>\n",
       "      <td>100.0</td>\n",
       "      <td>100.0</td>\n",
       "      <td>100.0</td>\n",
       "      <td>99.591462</td>\n",
       "      <td>57.971607</td>\n",
       "    </tr>\n",
       "    <tr>\n",
       "      <th>4</th>\n",
       "      <td>BCL2</td>\n",
       "      <td>NM_000633.3</td>\n",
       "      <td>1100</td>\n",
       "      <td>1849.629662</td>\n",
       "      <td>2220</td>\n",
       "      <td>100.0</td>\n",
       "      <td>100.0</td>\n",
       "      <td>100.0</td>\n",
       "      <td>100.000000</td>\n",
       "      <td>85.405405</td>\n",
       "    </tr>\n",
       "    <tr>\n",
       "      <th>...</th>\n",
       "      <td>...</td>\n",
       "      <td>...</td>\n",
       "      <td>...</td>\n",
       "      <td>...</td>\n",
       "      <td>...</td>\n",
       "      <td>...</td>\n",
       "      <td>...</td>\n",
       "      <td>...</td>\n",
       "      <td>...</td>\n",
       "      <td>...</td>\n",
       "    </tr>\n",
       "    <tr>\n",
       "      <th>72</th>\n",
       "      <td>TP53</td>\n",
       "      <td>NM_000546.6</td>\n",
       "      <td>1159</td>\n",
       "      <td>1787.774782</td>\n",
       "      <td>2217</td>\n",
       "      <td>100.0</td>\n",
       "      <td>100.0</td>\n",
       "      <td>100.0</td>\n",
       "      <td>100.000000</td>\n",
       "      <td>90.171607</td>\n",
       "    </tr>\n",
       "    <tr>\n",
       "      <th>73</th>\n",
       "      <td>U2AF1</td>\n",
       "      <td>NM_006758.3</td>\n",
       "      <td>1202</td>\n",
       "      <td>1626.448618</td>\n",
       "      <td>1981</td>\n",
       "      <td>100.0</td>\n",
       "      <td>100.0</td>\n",
       "      <td>100.0</td>\n",
       "      <td>100.000000</td>\n",
       "      <td>76.214197</td>\n",
       "    </tr>\n",
       "    <tr>\n",
       "      <th>74</th>\n",
       "      <td>UBA1</td>\n",
       "      <td>NM_003334.4</td>\n",
       "      <td>608</td>\n",
       "      <td>862.830995</td>\n",
       "      <td>1053</td>\n",
       "      <td>100.0</td>\n",
       "      <td>100.0</td>\n",
       "      <td>100.0</td>\n",
       "      <td>4.668807</td>\n",
       "      <td>0.000000</td>\n",
       "    </tr>\n",
       "    <tr>\n",
       "      <th>75</th>\n",
       "      <td>WT1</td>\n",
       "      <td>NM_024426.6</td>\n",
       "      <td>1029</td>\n",
       "      <td>1751.963475</td>\n",
       "      <td>2145</td>\n",
       "      <td>100.0</td>\n",
       "      <td>100.0</td>\n",
       "      <td>100.0</td>\n",
       "      <td>100.000000</td>\n",
       "      <td>85.859796</td>\n",
       "    </tr>\n",
       "    <tr>\n",
       "      <th>76</th>\n",
       "      <td>ZRSR2</td>\n",
       "      <td>NM_005089.4</td>\n",
       "      <td>525</td>\n",
       "      <td>840.201129</td>\n",
       "      <td>1034</td>\n",
       "      <td>100.0</td>\n",
       "      <td>100.0</td>\n",
       "      <td>100.0</td>\n",
       "      <td>4.810776</td>\n",
       "      <td>0.000000</td>\n",
       "    </tr>\n",
       "  </tbody>\n",
       "</table>\n",
       "<p>77 rows × 10 columns</p>\n",
       "</div>"
      ],
      "text/plain": [
       "       gene           tx   min         mean   max   100x   250x   500x  \\\n",
       "0   ANKRD26  NM_014915.3   903  1512.986100  1979  100.0  100.0  100.0   \n",
       "1    ARID1A  NM_006015.6   978  1769.361716  2128  100.0  100.0  100.0   \n",
       "2     ASXL1  NM_015338.6  1477  1831.989628  2139  100.0  100.0  100.0   \n",
       "3       ATM  NM_000051.4   905  1505.679038  1874  100.0  100.0  100.0   \n",
       "4      BCL2  NM_000633.3  1100  1849.629662  2220  100.0  100.0  100.0   \n",
       "..      ...          ...   ...          ...   ...    ...    ...    ...   \n",
       "72     TP53  NM_000546.6  1159  1787.774782  2217  100.0  100.0  100.0   \n",
       "73    U2AF1  NM_006758.3  1202  1626.448618  1981  100.0  100.0  100.0   \n",
       "74     UBA1  NM_003334.4   608   862.830995  1053  100.0  100.0  100.0   \n",
       "75      WT1  NM_024426.6  1029  1751.963475  2145  100.0  100.0  100.0   \n",
       "76    ZRSR2  NM_005089.4   525   840.201129  1034  100.0  100.0  100.0   \n",
       "\n",
       "         1000x      1500x  \n",
       "0    99.663180  56.709803  \n",
       "1    99.943327  88.027770  \n",
       "2   100.000000  99.810765  \n",
       "3    99.591462  57.971607  \n",
       "4   100.000000  85.405405  \n",
       "..         ...        ...  \n",
       "72  100.000000  90.171607  \n",
       "73  100.000000  76.214197  \n",
       "74    4.668807   0.000000  \n",
       "75  100.000000  85.859796  \n",
       "76    4.810776   0.000000  \n",
       "\n",
       "[77 rows x 10 columns]"
      ]
     },
     "execution_count": 44,
     "metadata": {},
     "output_type": "execute_result"
    }
   ],
   "source": [
    "sample1_gene_stats"
   ]
  },
  {
   "cell_type": "code",
   "execution_count": 45,
   "metadata": {},
   "outputs": [
    {
     "data": {
      "text/html": [
       "<div>\n",
       "<style scoped>\n",
       "    .dataframe tbody tr th:only-of-type {\n",
       "        vertical-align: middle;\n",
       "    }\n",
       "\n",
       "    .dataframe tbody tr th {\n",
       "        vertical-align: top;\n",
       "    }\n",
       "\n",
       "    .dataframe thead th {\n",
       "        text-align: right;\n",
       "    }\n",
       "</style>\n",
       "<table border=\"1\" class=\"dataframe\">\n",
       "  <thead>\n",
       "    <tr style=\"text-align: right;\">\n",
       "      <th></th>\n",
       "      <th>gene</th>\n",
       "      <th>tx</th>\n",
       "      <th>min</th>\n",
       "      <th>mean</th>\n",
       "      <th>max</th>\n",
       "      <th>100x</th>\n",
       "      <th>250x</th>\n",
       "      <th>500x</th>\n",
       "      <th>1000x</th>\n",
       "      <th>1500x</th>\n",
       "    </tr>\n",
       "  </thead>\n",
       "  <tbody>\n",
       "    <tr>\n",
       "      <th>0</th>\n",
       "      <td>ANKRD26</td>\n",
       "      <td>NM_014915.3</td>\n",
       "      <td>657</td>\n",
       "      <td>1829.046073</td>\n",
       "      <td>2531</td>\n",
       "      <td>100.0</td>\n",
       "      <td>100.0</td>\n",
       "      <td>100.0</td>\n",
       "      <td>99.982273</td>\n",
       "      <td>84.151746</td>\n",
       "    </tr>\n",
       "    <tr>\n",
       "      <th>1</th>\n",
       "      <td>ARID1A</td>\n",
       "      <td>NM_006015.6</td>\n",
       "      <td>1147</td>\n",
       "      <td>2179.701082</td>\n",
       "      <td>2761</td>\n",
       "      <td>100.0</td>\n",
       "      <td>100.0</td>\n",
       "      <td>100.0</td>\n",
       "      <td>100.000000</td>\n",
       "      <td>97.166336</td>\n",
       "    </tr>\n",
       "    <tr>\n",
       "      <th>2</th>\n",
       "      <td>ASXL1</td>\n",
       "      <td>NM_015338.6</td>\n",
       "      <td>1698</td>\n",
       "      <td>2316.145503</td>\n",
       "      <td>2720</td>\n",
       "      <td>100.0</td>\n",
       "      <td>100.0</td>\n",
       "      <td>100.0</td>\n",
       "      <td>100.000000</td>\n",
       "      <td>100.000000</td>\n",
       "    </tr>\n",
       "    <tr>\n",
       "      <th>3</th>\n",
       "      <td>ATM</td>\n",
       "      <td>NM_000051.4</td>\n",
       "      <td>1066</td>\n",
       "      <td>1807.196704</td>\n",
       "      <td>2350</td>\n",
       "      <td>100.0</td>\n",
       "      <td>100.0</td>\n",
       "      <td>100.0</td>\n",
       "      <td>100.000000</td>\n",
       "      <td>86.303748</td>\n",
       "    </tr>\n",
       "    <tr>\n",
       "      <th>4</th>\n",
       "      <td>BCL2</td>\n",
       "      <td>NM_000633.3</td>\n",
       "      <td>1364</td>\n",
       "      <td>2348.386216</td>\n",
       "      <td>2970</td>\n",
       "      <td>100.0</td>\n",
       "      <td>100.0</td>\n",
       "      <td>100.0</td>\n",
       "      <td>100.000000</td>\n",
       "      <td>96.756757</td>\n",
       "    </tr>\n",
       "    <tr>\n",
       "      <th>...</th>\n",
       "      <td>...</td>\n",
       "      <td>...</td>\n",
       "      <td>...</td>\n",
       "      <td>...</td>\n",
       "      <td>...</td>\n",
       "      <td>...</td>\n",
       "      <td>...</td>\n",
       "      <td>...</td>\n",
       "      <td>...</td>\n",
       "      <td>...</td>\n",
       "    </tr>\n",
       "    <tr>\n",
       "      <th>72</th>\n",
       "      <td>TP53</td>\n",
       "      <td>NM_000546.6</td>\n",
       "      <td>1324</td>\n",
       "      <td>2177.148089</td>\n",
       "      <td>2772</td>\n",
       "      <td>100.0</td>\n",
       "      <td>100.0</td>\n",
       "      <td>100.0</td>\n",
       "      <td>100.000000</td>\n",
       "      <td>98.361934</td>\n",
       "    </tr>\n",
       "    <tr>\n",
       "      <th>73</th>\n",
       "      <td>U2AF1</td>\n",
       "      <td>NM_006758.3</td>\n",
       "      <td>1500</td>\n",
       "      <td>2000.753724</td>\n",
       "      <td>2468</td>\n",
       "      <td>100.0</td>\n",
       "      <td>100.0</td>\n",
       "      <td>100.0</td>\n",
       "      <td>100.000000</td>\n",
       "      <td>100.000000</td>\n",
       "    </tr>\n",
       "    <tr>\n",
       "      <th>74</th>\n",
       "      <td>UBA1</td>\n",
       "      <td>NM_003334.4</td>\n",
       "      <td>1410</td>\n",
       "      <td>2097.179206</td>\n",
       "      <td>2655</td>\n",
       "      <td>100.0</td>\n",
       "      <td>100.0</td>\n",
       "      <td>100.0</td>\n",
       "      <td>100.000000</td>\n",
       "      <td>99.591479</td>\n",
       "    </tr>\n",
       "    <tr>\n",
       "      <th>75</th>\n",
       "      <td>WT1</td>\n",
       "      <td>NM_024426.6</td>\n",
       "      <td>1118</td>\n",
       "      <td>2159.600180</td>\n",
       "      <td>2731</td>\n",
       "      <td>100.0</td>\n",
       "      <td>100.0</td>\n",
       "      <td>100.0</td>\n",
       "      <td>100.000000</td>\n",
       "      <td>97.783104</td>\n",
       "    </tr>\n",
       "    <tr>\n",
       "      <th>76</th>\n",
       "      <td>ZRSR2</td>\n",
       "      <td>NM_005089.4</td>\n",
       "      <td>1280</td>\n",
       "      <td>2055.120026</td>\n",
       "      <td>2529</td>\n",
       "      <td>100.0</td>\n",
       "      <td>100.0</td>\n",
       "      <td>100.0</td>\n",
       "      <td>100.000000</td>\n",
       "      <td>97.305965</td>\n",
       "    </tr>\n",
       "  </tbody>\n",
       "</table>\n",
       "<p>77 rows × 10 columns</p>\n",
       "</div>"
      ],
      "text/plain": [
       "       gene           tx   min         mean   max   100x   250x   500x  \\\n",
       "0   ANKRD26  NM_014915.3   657  1829.046073  2531  100.0  100.0  100.0   \n",
       "1    ARID1A  NM_006015.6  1147  2179.701082  2761  100.0  100.0  100.0   \n",
       "2     ASXL1  NM_015338.6  1698  2316.145503  2720  100.0  100.0  100.0   \n",
       "3       ATM  NM_000051.4  1066  1807.196704  2350  100.0  100.0  100.0   \n",
       "4      BCL2  NM_000633.3  1364  2348.386216  2970  100.0  100.0  100.0   \n",
       "..      ...          ...   ...          ...   ...    ...    ...    ...   \n",
       "72     TP53  NM_000546.6  1324  2177.148089  2772  100.0  100.0  100.0   \n",
       "73    U2AF1  NM_006758.3  1500  2000.753724  2468  100.0  100.0  100.0   \n",
       "74     UBA1  NM_003334.4  1410  2097.179206  2655  100.0  100.0  100.0   \n",
       "75      WT1  NM_024426.6  1118  2159.600180  2731  100.0  100.0  100.0   \n",
       "76    ZRSR2  NM_005089.4  1280  2055.120026  2529  100.0  100.0  100.0   \n",
       "\n",
       "         1000x       1500x  \n",
       "0    99.982273   84.151746  \n",
       "1   100.000000   97.166336  \n",
       "2   100.000000  100.000000  \n",
       "3   100.000000   86.303748  \n",
       "4   100.000000   96.756757  \n",
       "..         ...         ...  \n",
       "72  100.000000   98.361934  \n",
       "73  100.000000  100.000000  \n",
       "74  100.000000   99.591479  \n",
       "75  100.000000   97.783104  \n",
       "76  100.000000   97.305965  \n",
       "\n",
       "[77 rows x 10 columns]"
      ]
     },
     "execution_count": 45,
     "metadata": {},
     "output_type": "execute_result"
    }
   ],
   "source": [
    "sample2_gene_stats"
   ]
  },
  {
   "cell_type": "code",
   "execution_count": 27,
   "metadata": {},
   "outputs": [],
   "source": [
    "with open('2206462-22188Z0056-1-PB-MPD-MYE-M-EGG2_S20_L001_markdup.hsmetrics.tsv') as f:\n",
    "    file = f.readlines()\n",
    "    for idx, line in enumerate(file):\n",
    "        if line.startswith('## METRICS'):\n",
    "            sample1_hsmetrics = pd.DataFrame(\n",
    "                data=[file[idx + 2].split('\\t')],\n",
    "                columns=file[idx + 1].split('\\t')\n",
    "            )\n",
    "            break\n",
    "\n",
    "\n",
    "with open('2206600-22193Z0004-1-PB-MPD-MYE-F-EGG2_S21_L001_markdup.hsmetrics.tsv') as f:\n",
    "    file = f.readlines()\n",
    "    for idx, line in enumerate(file):\n",
    "        if line.startswith('## METRICS'):\n",
    "            sample2_hsmetrics = pd.DataFrame(\n",
    "                data=[file[idx + 2].split('\\t')],\n",
    "                columns=file[idx + 1].split('\\t')\n",
    "            )\n",
    "            break"
   ]
  },
  {
   "cell_type": "code",
   "execution_count": 151,
   "metadata": {},
   "outputs": [
    {
     "data": {
      "text/plain": [
       "BAIT_SET                          targets\n",
       "BAIT_TERRITORY                     314960\n",
       "BAIT_DESIGN_EFFICIENCY                  1\n",
       "ON_BAIT_BASES                  2092827208\n",
       "NEAR_BAIT_BASES                 904018251\n",
       "OFF_BAIT_BASES                 1251222139\n",
       "PCT_SELECTED_BASES               0.705461\n",
       "PCT_OFF_BAIT                     0.294539\n",
       "ON_BAIT_VS_SELECTED              0.698343\n",
       "MEAN_BAIT_COVERAGE            6644.739675\n",
       "PCT_USABLE_BASES_ON_BAIT         0.488054\n",
       "PCT_USABLE_BASES_ON_TARGET       0.105021\n",
       "FOLD_ENRICHMENT                4848.83487\n",
       "HS_LIBRARY_SIZE                   4122099\n",
       "HS_PENALTY_10X                   6.124448\n",
       "HS_PENALTY_20X                   6.160323\n",
       "HS_PENALTY_30X                   6.188226\n",
       "HS_PENALTY_40X                   6.220115\n",
       "HS_PENALTY_50X                   6.258381\n",
       "HS_PENALTY_100X                   6.43058\n",
       "TARGET_TERRITORY                   314960\n",
       "GENOME_SIZE                    3099922541\n",
       "TOTAL_READS                      30618054\n",
       "PF_READS                         30618054\n",
       "PF_BASES                       4288107144\n",
       "PF_UNIQUE_READS                  12861414\n",
       "PF_UQ_READS_ALIGNED              12799673\n",
       "PF_BASES_ALIGNED               4248067598\n",
       "PF_UQ_BASES_ALIGNED            1768286655\n",
       "ON_TARGET_BASES                 450341367\n",
       "PCT_PF_READS                            1\n",
       "PCT_PF_UQ_READS                   0.42006\n",
       "PCT_PF_UQ_READS_ALIGNED            0.9952\n",
       "MEAN_TARGET_COVERAGE            1429.8367\n",
       "MEDIAN_TARGET_COVERAGE               1550\n",
       "MAX_TARGET_COVERAGE                  4974\n",
       "MIN_TARGET_COVERAGE                    17\n",
       "ZERO_CVG_TARGETS_PCT                    0\n",
       "PCT_EXC_DUPE                     0.583743\n",
       "PCT_EXC_ADAPTER                         0\n",
       "PCT_EXC_MAPQ                     0.036437\n",
       "PCT_EXC_BASEQ                    0.005449\n",
       "PCT_EXC_OVERLAP                    0.1138\n",
       "PCT_EXC_OFF_TARGET               0.154574\n",
       "FOLD_80_BASE_PENALTY             1.552483\n",
       "PCT_TARGET_BASES_1X                     1\n",
       "PCT_TARGET_BASES_2X                     1\n",
       "PCT_TARGET_BASES_10X                    1\n",
       "PCT_TARGET_BASES_20X             0.999997\n",
       "PCT_TARGET_BASES_30X              0.99999\n",
       "PCT_TARGET_BASES_40X             0.999987\n",
       "PCT_TARGET_BASES_50X             0.999984\n",
       "PCT_TARGET_BASES_100X            0.999984\n",
       "AT_DROPOUT                       4.038804\n",
       "GC_DROPOUT                       0.239193\n",
       "HET_SNP_SENSITIVITY              0.224578\n",
       "HET_SNP_Q                               1\n",
       "SAMPLE                                   \n",
       "LIBRARY                                  \n",
       "READ_GROUP\\n                           \\n\n",
       "Name: 0, dtype: object"
      ]
     },
     "execution_count": 151,
     "metadata": {},
     "output_type": "execute_result"
    }
   ],
   "source": [
    "sample1_hsmetrics.iloc[0]"
   ]
  },
  {
   "cell_type": "code",
   "execution_count": 152,
   "metadata": {},
   "outputs": [
    {
     "data": {
      "text/plain": [
       "BAIT_SET                          targets\n",
       "BAIT_TERRITORY                     314960\n",
       "BAIT_DESIGN_EFFICIENCY                  1\n",
       "ON_BAIT_BASES                  2148871038\n",
       "NEAR_BAIT_BASES                 986747252\n",
       "OFF_BAIT_BASES                 1132315707\n",
       "PCT_SELECTED_BASES               0.734692\n",
       "PCT_OFF_BAIT                     0.265308\n",
       "ON_BAIT_VS_SELECTED               0.68531\n",
       "MEAN_BAIT_COVERAGE            6822.679191\n",
       "PCT_USABLE_BASES_ON_BAIT         0.499546\n",
       "PCT_USABLE_BASES_ON_TARGET       0.143545\n",
       "FOLD_ENRICHMENT               4955.507051\n",
       "HS_LIBRARY_SIZE                   6225063\n",
       "HS_PENALTY_10X                   4.123459\n",
       "HS_PENALTY_20X                   4.134588\n",
       "HS_PENALTY_30X                   4.149426\n",
       "HS_PENALTY_40X                   4.156844\n",
       "HS_PENALTY_50X                   4.170199\n",
       "HS_PENALTY_100X                  4.223615\n",
       "TARGET_TERRITORY                   314960\n",
       "GENOME_SIZE                    3099922541\n",
       "TOTAL_READS                      30683666\n",
       "PF_READS                         30683666\n",
       "PF_BASES                       4301645695\n",
       "PF_UNIQUE_READS                  15446543\n",
       "PF_UQ_READS_ALIGNED              15403137\n",
       "PF_BASES_ALIGNED               4267933997\n",
       "PF_UQ_BASES_ALIGNED            2137885192\n",
       "ON_TARGET_BASES                 617479367\n",
       "PCT_PF_READS                            1\n",
       "PCT_PF_UQ_READS                  0.503413\n",
       "PCT_PF_UQ_READS_ALIGNED           0.99719\n",
       "MEAN_TARGET_COVERAGE          1960.500911\n",
       "MEDIAN_TARGET_COVERAGE               1981\n",
       "MAX_TARGET_COVERAGE                  5431\n",
       "MIN_TARGET_COVERAGE                     0\n",
       "ZERO_CVG_TARGETS_PCT             0.003358\n",
       "PCT_EXC_DUPE                     0.499082\n",
       "PCT_EXC_ADAPTER                         0\n",
       "PCT_EXC_MAPQ                     0.032267\n",
       "PCT_EXC_BASEQ                    0.006109\n",
       "PCT_EXC_OVERLAP                  0.138941\n",
       "PCT_EXC_OFF_TARGET                0.17894\n",
       "FOLD_80_BASE_PENALTY             1.188903\n",
       "PCT_TARGET_BASES_1X              0.995415\n",
       "PCT_TARGET_BASES_2X              0.994974\n",
       "PCT_TARGET_BASES_10X             0.994974\n",
       "PCT_TARGET_BASES_20X             0.994974\n",
       "PCT_TARGET_BASES_30X             0.994974\n",
       "PCT_TARGET_BASES_40X             0.994964\n",
       "PCT_TARGET_BASES_50X             0.994961\n",
       "PCT_TARGET_BASES_100X            0.994958\n",
       "AT_DROPOUT                       3.974885\n",
       "GC_DROPOUT                       0.136432\n",
       "HET_SNP_SENSITIVITY              0.002809\n",
       "HET_SNP_Q                               0\n",
       "SAMPLE                                   \n",
       "LIBRARY                                  \n",
       "READ_GROUP\\n                           \\n\n",
       "Name: 0, dtype: object"
      ]
     },
     "execution_count": 152,
     "metadata": {},
     "output_type": "execute_result"
    }
   ],
   "source": [
    "sample2_hsmetrics.iloc[0]"
   ]
  },
  {
   "cell_type": "code",
   "execution_count": 153,
   "metadata": {},
   "outputs": [
    {
     "data": {
      "text/plain": [
       "4.647841371791325"
      ]
     },
     "execution_count": 153,
     "metadata": {},
     "output_type": "execute_result"
    }
   ],
   "source": [
    "(15446543 / 1960.500911) / ((1960.500911 + 1429.8367) / 2)"
   ]
  },
  {
   "cell_type": "code",
   "execution_count": 38,
   "metadata": {},
   "outputs": [
    {
     "data": {
      "text/html": [
       "<div>\n",
       "<style scoped>\n",
       "    .dataframe tbody tr th:only-of-type {\n",
       "        vertical-align: middle;\n",
       "    }\n",
       "\n",
       "    .dataframe tbody tr th {\n",
       "        vertical-align: top;\n",
       "    }\n",
       "\n",
       "    .dataframe thead th {\n",
       "        text-align: right;\n",
       "    }\n",
       "</style>\n",
       "<table border=\"1\" class=\"dataframe\">\n",
       "  <thead>\n",
       "    <tr style=\"text-align: right;\">\n",
       "      <th></th>\n",
       "      <th>PCT_USABLE_BASES_ON_TARGET</th>\n",
       "      <th>ON_TARGET_BASES</th>\n",
       "    </tr>\n",
       "  </thead>\n",
       "  <tbody>\n",
       "    <tr>\n",
       "      <th>0</th>\n",
       "      <td>0.105021</td>\n",
       "      <td>450341367</td>\n",
       "    </tr>\n",
       "  </tbody>\n",
       "</table>\n",
       "</div>"
      ],
      "text/plain": [
       "  PCT_USABLE_BASES_ON_TARGET ON_TARGET_BASES\n",
       "0                   0.105021       450341367"
      ]
     },
     "execution_count": 38,
     "metadata": {},
     "output_type": "execute_result"
    }
   ],
   "source": [
    "\n",
    "sample1_hsmetrics[['PCT_USABLE_BASES_ON_TARGET', 'ON_TARGET_BASES']]\n"
   ]
  },
  {
   "cell_type": "code",
   "execution_count": 33,
   "metadata": {},
   "outputs": [
    {
     "data": {
      "text/html": [
       "<div>\n",
       "<style scoped>\n",
       "    .dataframe tbody tr th:only-of-type {\n",
       "        vertical-align: middle;\n",
       "    }\n",
       "\n",
       "    .dataframe tbody tr th {\n",
       "        vertical-align: top;\n",
       "    }\n",
       "\n",
       "    .dataframe thead th {\n",
       "        text-align: right;\n",
       "    }\n",
       "</style>\n",
       "<table border=\"1\" class=\"dataframe\">\n",
       "  <thead>\n",
       "    <tr style=\"text-align: right;\">\n",
       "      <th></th>\n",
       "      <th>PCT_USABLE_BASES_ON_TARGET</th>\n",
       "      <th>ON_TARGET_BASES</th>\n",
       "    </tr>\n",
       "  </thead>\n",
       "  <tbody>\n",
       "    <tr>\n",
       "      <th>0</th>\n",
       "      <td>0.143545</td>\n",
       "      <td>617479367</td>\n",
       "    </tr>\n",
       "  </tbody>\n",
       "</table>\n",
       "</div>"
      ],
      "text/plain": [
       "  PCT_USABLE_BASES_ON_TARGET ON_TARGET_BASES\n",
       "0                   0.143545       617479367"
      ]
     },
     "execution_count": 33,
     "metadata": {},
     "output_type": "execute_result"
    }
   ],
   "source": [
    "sample2_hsmetrics[['PCT_USABLE_BASES_ON_TARGET', 'ON_TARGET_BASES']]"
   ]
  },
  {
   "cell_type": "code",
   "execution_count": 55,
   "metadata": {},
   "outputs": [
    {
     "data": {
      "text/plain": [
       "47295300.703707"
      ]
     },
     "execution_count": 55,
     "metadata": {},
     "output_type": "execute_result"
    }
   ],
   "source": [
    "sample1_bases = int(sample1_hsmetrics.iloc[0]['ON_TARGET_BASES']) * float(sample1_hsmetrics.iloc[0]['PCT_USABLE_BASES_ON_TARGET'])\n",
    "sample1_bases"
   ]
  },
  {
   "cell_type": "code",
   "execution_count": 56,
   "metadata": {},
   "outputs": [
    {
     "data": {
      "text/plain": [
       "88636075.736015"
      ]
     },
     "execution_count": 56,
     "metadata": {},
     "output_type": "execute_result"
    }
   ],
   "source": [
    "sample2_bases = int(sample2_hsmetrics.iloc[0]['ON_TARGET_BASES']) * float(sample2_hsmetrics.iloc[0]['PCT_USABLE_BASES_ON_TARGET'])\n",
    "sample2_bases"
   ]
  },
  {
   "cell_type": "code",
   "execution_count": 68,
   "metadata": {},
   "outputs": [],
   "source": [
    "total_bases = sample1_bases + sample2_bases"
   ]
  },
  {
   "cell_type": "code",
   "execution_count": 69,
   "metadata": {},
   "outputs": [
    {
     "data": {
      "text/plain": [
       "0.6520648731554642"
      ]
     },
     "execution_count": 69,
     "metadata": {},
     "output_type": "execute_result"
    }
   ],
   "source": [
    "sample1_fraction = (total_bases - sample1_bases) / total_bases\n",
    "sample1_fraction"
   ]
  },
  {
   "cell_type": "markdown",
   "metadata": {},
   "source": []
  },
  {
   "cell_type": "code",
   "execution_count": 71,
   "metadata": {},
   "outputs": [
    {
     "data": {
      "text/plain": [
       "0.3479351268445356"
      ]
     },
     "execution_count": 71,
     "metadata": {},
     "output_type": "execute_result"
    }
   ],
   "source": [
    "sample2_fraction = (total_bases - sample2_bases) / total_bases \n",
    "sample2_fraction"
   ]
  },
  {
   "cell_type": "code",
   "execution_count": 83,
   "metadata": {},
   "outputs": [
    {
     "data": {
      "text/plain": [
       "1513"
      ]
     },
     "execution_count": 83,
     "metadata": {},
     "output_type": "execute_result"
    }
   ],
   "source": [
    "sample1_ankrd26_mean = round(sample1_gene_stats.iloc[0]['mean'])\n",
    "sample1_ankrd26_mean"
   ]
  },
  {
   "cell_type": "code",
   "execution_count": 82,
   "metadata": {},
   "outputs": [
    {
     "data": {
      "text/plain": [
       "1829"
      ]
     },
     "execution_count": 82,
     "metadata": {},
     "output_type": "execute_result"
    }
   ],
   "source": [
    "sample2_ankrd26_mean = round(sample2_gene_stats.iloc[0]['mean'])\n",
    "sample2_ankrd26_mean"
   ]
  },
  {
   "cell_type": "code",
   "execution_count": 79,
   "metadata": {},
   "outputs": [
    {
     "data": {
      "text/plain": [
       "1671"
      ]
     },
     "execution_count": 79,
     "metadata": {},
     "output_type": "execute_result"
    }
   ],
   "source": [
    "# crude mean\n",
    "crude_mean = round((sample1_ankrd26_mean + sample2_ankrd26_mean) / 2)\n",
    "crude_mean"
   ]
  },
  {
   "cell_type": "code",
   "execution_count": 80,
   "metadata": {},
   "outputs": [
    {
     "data": {
      "text/plain": [
       "1623"
      ]
     },
     "execution_count": 80,
     "metadata": {},
     "output_type": "execute_result"
    }
   ],
   "source": [
    "# normalised mean\n",
    "norm_mean = round((sample1_ankrd26_mean * sample1_fraction) + (sample2_ankrd26_mean * sample2_fraction))\n",
    "norm_mean"
   ]
  },
  {
   "cell_type": "code",
   "execution_count": 84,
   "metadata": {},
   "outputs": [
    {
     "name": "stdout",
     "output_type": "stream",
     "text": [
      "Sample1\n",
      "Usable bases: 47295300.703707\n",
      "Fraction: 0.6520648731554642\n",
      "Gene mean: 1513\n",
      "\n",
      "Sample2\n",
      "Usable bases: 88636075.736015\n",
      "Fraction: 0.3479351268445356\n",
      "Gene mean: 1829\n",
      "\n",
      "Total bases: 135931376.439722\n",
      "Crude mean: 1671\n",
      "Normalised mean: 1623\n"
     ]
    }
   ],
   "source": [
    "print(\n",
    "    f\"Sample1\\nUsable bases: {sample1_bases}\\nFraction: {sample1_fraction}\\n\"\n",
    "    f\"Gene mean: {sample1_ankrd26_mean}\\n\\nSample2\\nUsable bases: {sample2_bases}\\n\"\n",
    "    f\"Fraction: {sample2_fraction}\\nGene mean: {sample2_ankrd26_mean}\\n\\nTotal bases: \"\n",
    "    f\"{total_bases}\\nCrude mean: {crude_mean}\\nNormalised mean: {norm_mean}\"\n",
    ")"
   ]
  },
  {
   "cell_type": "code",
   "execution_count": 133,
   "metadata": {},
   "outputs": [
    {
     "name": "stderr",
     "output_type": "stream",
     "text": [
      "/home/jethro/.local/lib/python3.8/site-packages/IPython/core/interactiveshell.py:3012: DtypeWarning: Columns (0) have mixed types.Specify dtype option on import or set low_memory=False.\n",
      "  has_raised = await self.run_ast_nodes(code_ast.body, cell_name,\n"
     ]
    }
   ],
   "source": [
    "# looking at per base stats for multiple samples\n",
    "column = [\n",
    "            \"chrom\", \"exon_start\", \"exon_end\", \"gene\", \"tx\", \"exon\",\n",
    "            \"cov_start\", \"cov_end\", \"cov\"\n",
    "]\n",
    "\n",
    "sample1_per_base = pd.read_csv(\n",
    "    '2206462-22188Z0056-1-PB-MPD-MYE-M-EGG2_annotated.bed.gz',\n",
    "    sep='\\t', names=column\n",
    ")"
   ]
  },
  {
   "cell_type": "code",
   "execution_count": 134,
   "metadata": {},
   "outputs": [],
   "source": [
    "sample2_per_base = pd.read_csv(\n",
    "    '2206600-22193Z0004-1-PB-MPD-MYE-F-EGG2_annotated.bed.gz',\n",
    "    sep='\\t', names=column\n",
    ")"
   ]
  },
  {
   "cell_type": "code",
   "execution_count": 135,
   "metadata": {},
   "outputs": [
    {
     "data": {
      "text/plain": [
       "(223734, 10)"
      ]
     },
     "execution_count": 135,
     "metadata": {},
     "output_type": "execute_result"
    }
   ],
   "source": [
    "# split out each bin of data to individual base records and\n",
    "# remove bases that fall outside of exon boundaries when bins span them\n",
    "sample1_per_base['range'] = list(map(list, list(map(\n",
    "    range, sample1_per_base['cov_start'].values, sample1_per_base['cov_end'].values))))\n",
    "\n",
    "sample1_per_base.shape\n"
   ]
  },
  {
   "cell_type": "code",
   "execution_count": 136,
   "metadata": {},
   "outputs": [
    {
     "data": {
      "text/plain": [
       "(233607, 10)"
      ]
     },
     "execution_count": 136,
     "metadata": {},
     "output_type": "execute_result"
    }
   ],
   "source": [
    "sample1_per_base = sample1_per_base.explode('range')\n",
    "sample1_per_base.shape\n"
   ]
  },
  {
   "cell_type": "code",
   "execution_count": 137,
   "metadata": {},
   "outputs": [
    {
     "data": {
      "text/plain": [
       "(233572, 10)"
      ]
     },
     "execution_count": 137,
     "metadata": {},
     "output_type": "execute_result"
    }
   ],
   "source": [
    "sample1_per_base = sample1_per_base.iloc[np.where((\n",
    "        sample1_per_base['exon_end'] > sample1_per_base['range']\n",
    "    ) & (\n",
    "        sample1_per_base['exon_start'] <= sample1_per_base['range']\n",
    "))]\n",
    "\n",
    "sample1_per_base.shape"
   ]
  },
  {
   "cell_type": "code",
   "execution_count": 138,
   "metadata": {},
   "outputs": [
    {
     "data": {
      "text/plain": [
       "(233572, 8)"
      ]
     },
     "execution_count": 138,
     "metadata": {},
     "output_type": "execute_result"
    }
   ],
   "source": [
    "sample1_per_base.drop(['cov_start', 'cov_end'], axis=1, inplace=True)\n",
    "\n",
    "sample1_per_base.shape"
   ]
  },
  {
   "cell_type": "code",
   "execution_count": 139,
   "metadata": {},
   "outputs": [
    {
     "data": {
      "text/html": [
       "<div>\n",
       "<style scoped>\n",
       "    .dataframe tbody tr th:only-of-type {\n",
       "        vertical-align: middle;\n",
       "    }\n",
       "\n",
       "    .dataframe tbody tr th {\n",
       "        vertical-align: top;\n",
       "    }\n",
       "\n",
       "    .dataframe thead th {\n",
       "        text-align: right;\n",
       "    }\n",
       "</style>\n",
       "<table border=\"1\" class=\"dataframe\">\n",
       "  <thead>\n",
       "    <tr style=\"text-align: right;\">\n",
       "      <th></th>\n",
       "      <th>chrom</th>\n",
       "      <th>exon_start</th>\n",
       "      <th>exon_end</th>\n",
       "      <th>gene</th>\n",
       "      <th>tx</th>\n",
       "      <th>exon</th>\n",
       "      <th>cov</th>\n",
       "      <th>range</th>\n",
       "    </tr>\n",
       "  </thead>\n",
       "  <tbody>\n",
       "    <tr>\n",
       "      <th>0</th>\n",
       "      <td>1</td>\n",
       "      <td>1787325</td>\n",
       "      <td>1787442</td>\n",
       "      <td>GNB1</td>\n",
       "      <td>NM_002074.5</td>\n",
       "      <td>11</td>\n",
       "      <td>1255</td>\n",
       "      <td>1787325</td>\n",
       "    </tr>\n",
       "    <tr>\n",
       "      <th>1</th>\n",
       "      <td>1</td>\n",
       "      <td>1787325</td>\n",
       "      <td>1787442</td>\n",
       "      <td>GNB1</td>\n",
       "      <td>NM_002074.5</td>\n",
       "      <td>11</td>\n",
       "      <td>1273</td>\n",
       "      <td>1787326</td>\n",
       "    </tr>\n",
       "    <tr>\n",
       "      <th>2</th>\n",
       "      <td>1</td>\n",
       "      <td>1787325</td>\n",
       "      <td>1787442</td>\n",
       "      <td>GNB1</td>\n",
       "      <td>NM_002074.5</td>\n",
       "      <td>11</td>\n",
       "      <td>1280</td>\n",
       "      <td>1787327</td>\n",
       "    </tr>\n",
       "    <tr>\n",
       "      <th>3</th>\n",
       "      <td>1</td>\n",
       "      <td>1787325</td>\n",
       "      <td>1787442</td>\n",
       "      <td>GNB1</td>\n",
       "      <td>NM_002074.5</td>\n",
       "      <td>11</td>\n",
       "      <td>1286</td>\n",
       "      <td>1787328</td>\n",
       "    </tr>\n",
       "    <tr>\n",
       "      <th>4</th>\n",
       "      <td>1</td>\n",
       "      <td>1787325</td>\n",
       "      <td>1787442</td>\n",
       "      <td>GNB1</td>\n",
       "      <td>NM_002074.5</td>\n",
       "      <td>11</td>\n",
       "      <td>1314</td>\n",
       "      <td>1787329</td>\n",
       "    </tr>\n",
       "    <tr>\n",
       "      <th>...</th>\n",
       "      <td>...</td>\n",
       "      <td>...</td>\n",
       "      <td>...</td>\n",
       "      <td>...</td>\n",
       "      <td>...</td>\n",
       "      <td>...</td>\n",
       "      <td>...</td>\n",
       "      <td>...</td>\n",
       "    </tr>\n",
       "    <tr>\n",
       "      <th>223730</th>\n",
       "      <td>X</td>\n",
       "      <td>134425195</td>\n",
       "      <td>134425335</td>\n",
       "      <td>PHF6</td>\n",
       "      <td>NM_001015877.2</td>\n",
       "      <td>10</td>\n",
       "      <td>603</td>\n",
       "      <td>134425330</td>\n",
       "    </tr>\n",
       "    <tr>\n",
       "      <th>223731</th>\n",
       "      <td>X</td>\n",
       "      <td>134425195</td>\n",
       "      <td>134425335</td>\n",
       "      <td>PHF6</td>\n",
       "      <td>NM_001015877.2</td>\n",
       "      <td>10</td>\n",
       "      <td>597</td>\n",
       "      <td>134425331</td>\n",
       "    </tr>\n",
       "    <tr>\n",
       "      <th>223732</th>\n",
       "      <td>X</td>\n",
       "      <td>134425195</td>\n",
       "      <td>134425335</td>\n",
       "      <td>PHF6</td>\n",
       "      <td>NM_001015877.2</td>\n",
       "      <td>10</td>\n",
       "      <td>592</td>\n",
       "      <td>134425332</td>\n",
       "    </tr>\n",
       "    <tr>\n",
       "      <th>223733</th>\n",
       "      <td>X</td>\n",
       "      <td>134425195</td>\n",
       "      <td>134425335</td>\n",
       "      <td>PHF6</td>\n",
       "      <td>NM_001015877.2</td>\n",
       "      <td>10</td>\n",
       "      <td>590</td>\n",
       "      <td>134425333</td>\n",
       "    </tr>\n",
       "    <tr>\n",
       "      <th>223733</th>\n",
       "      <td>X</td>\n",
       "      <td>134425195</td>\n",
       "      <td>134425335</td>\n",
       "      <td>PHF6</td>\n",
       "      <td>NM_001015877.2</td>\n",
       "      <td>10</td>\n",
       "      <td>590</td>\n",
       "      <td>134425334</td>\n",
       "    </tr>\n",
       "  </tbody>\n",
       "</table>\n",
       "<p>233572 rows × 8 columns</p>\n",
       "</div>"
      ],
      "text/plain": [
       "       chrom  exon_start   exon_end  gene              tx  exon   cov  \\\n",
       "0          1     1787325    1787442  GNB1     NM_002074.5    11  1255   \n",
       "1          1     1787325    1787442  GNB1     NM_002074.5    11  1273   \n",
       "2          1     1787325    1787442  GNB1     NM_002074.5    11  1280   \n",
       "3          1     1787325    1787442  GNB1     NM_002074.5    11  1286   \n",
       "4          1     1787325    1787442  GNB1     NM_002074.5    11  1314   \n",
       "...      ...         ...        ...   ...             ...   ...   ...   \n",
       "223730     X   134425195  134425335  PHF6  NM_001015877.2    10   603   \n",
       "223731     X   134425195  134425335  PHF6  NM_001015877.2    10   597   \n",
       "223732     X   134425195  134425335  PHF6  NM_001015877.2    10   592   \n",
       "223733     X   134425195  134425335  PHF6  NM_001015877.2    10   590   \n",
       "223733     X   134425195  134425335  PHF6  NM_001015877.2    10   590   \n",
       "\n",
       "            range  \n",
       "0         1787325  \n",
       "1         1787326  \n",
       "2         1787327  \n",
       "3         1787328  \n",
       "4         1787329  \n",
       "...           ...  \n",
       "223730  134425330  \n",
       "223731  134425331  \n",
       "223732  134425332  \n",
       "223733  134425333  \n",
       "223733  134425334  \n",
       "\n",
       "[233572 rows x 8 columns]"
      ]
     },
     "execution_count": 139,
     "metadata": {},
     "output_type": "execute_result"
    }
   ],
   "source": [
    "sample1_per_base"
   ]
  },
  {
   "cell_type": "code",
   "execution_count": 140,
   "metadata": {},
   "outputs": [
    {
     "data": {
      "text/plain": [
       "(233572, 8)"
      ]
     },
     "execution_count": 140,
     "metadata": {},
     "output_type": "execute_result"
    }
   ],
   "source": [
    "# read in sample 2 per base and explode as above\n",
    "sample2_per_base['range'] = list(map(list, list(map(\n",
    "    range, sample2_per_base['cov_start'].values, sample2_per_base['cov_end'].values))))\n",
    "\n",
    "sample2_per_base = sample2_per_base.explode('range')\n",
    "\n",
    "sample2_per_base = sample2_per_base.iloc[np.where((\n",
    "        sample2_per_base['exon_end'] > sample2_per_base['range']\n",
    "    ) & (\n",
    "        sample2_per_base['exon_start'] <= sample2_per_base['range']\n",
    "))]\n",
    "\n",
    "sample2_per_base.drop(['cov_start', 'cov_end'], axis=1, inplace=True)\n",
    "\n",
    "sample2_per_base.shape"
   ]
  },
  {
   "cell_type": "code",
   "execution_count": 141,
   "metadata": {},
   "outputs": [],
   "source": [
    "sample1_per_base.reset_index(drop=True, inplace=True)\n",
    "sample2_per_base.reset_index(drop=True, inplace=True)"
   ]
  },
  {
   "cell_type": "code",
   "execution_count": 142,
   "metadata": {},
   "outputs": [
    {
     "name": "stdout",
     "output_type": "stream",
     "text": [
      "(233572, 8) (233572, 8)\n"
     ]
    }
   ],
   "source": [
    "print(sample1_per_base.shape, sample2_per_base.shape)"
   ]
  },
  {
   "cell_type": "code",
   "execution_count": 143,
   "metadata": {},
   "outputs": [
    {
     "data": {
      "text/html": [
       "<div>\n",
       "<style scoped>\n",
       "    .dataframe tbody tr th:only-of-type {\n",
       "        vertical-align: middle;\n",
       "    }\n",
       "\n",
       "    .dataframe tbody tr th {\n",
       "        vertical-align: top;\n",
       "    }\n",
       "\n",
       "    .dataframe thead th {\n",
       "        text-align: right;\n",
       "    }\n",
       "</style>\n",
       "<table border=\"1\" class=\"dataframe\">\n",
       "  <thead>\n",
       "    <tr style=\"text-align: right;\">\n",
       "      <th></th>\n",
       "      <th>chrom</th>\n",
       "      <th>exon_start</th>\n",
       "      <th>exon_end</th>\n",
       "      <th>gene</th>\n",
       "      <th>tx</th>\n",
       "      <th>exon</th>\n",
       "      <th>cov</th>\n",
       "      <th>range</th>\n",
       "      <th>norm</th>\n",
       "    </tr>\n",
       "  </thead>\n",
       "  <tbody>\n",
       "    <tr>\n",
       "      <th>0</th>\n",
       "      <td>1</td>\n",
       "      <td>1787325</td>\n",
       "      <td>1787442</td>\n",
       "      <td>GNB1</td>\n",
       "      <td>NM_002074.5</td>\n",
       "      <td>11</td>\n",
       "      <td>1255</td>\n",
       "      <td>1787325</td>\n",
       "      <td>818.341416</td>\n",
       "    </tr>\n",
       "    <tr>\n",
       "      <th>1</th>\n",
       "      <td>1</td>\n",
       "      <td>1787325</td>\n",
       "      <td>1787442</td>\n",
       "      <td>GNB1</td>\n",
       "      <td>NM_002074.5</td>\n",
       "      <td>11</td>\n",
       "      <td>1273</td>\n",
       "      <td>1787326</td>\n",
       "      <td>830.078584</td>\n",
       "    </tr>\n",
       "    <tr>\n",
       "      <th>2</th>\n",
       "      <td>1</td>\n",
       "      <td>1787325</td>\n",
       "      <td>1787442</td>\n",
       "      <td>GNB1</td>\n",
       "      <td>NM_002074.5</td>\n",
       "      <td>11</td>\n",
       "      <td>1280</td>\n",
       "      <td>1787327</td>\n",
       "      <td>834.643038</td>\n",
       "    </tr>\n",
       "    <tr>\n",
       "      <th>3</th>\n",
       "      <td>1</td>\n",
       "      <td>1787325</td>\n",
       "      <td>1787442</td>\n",
       "      <td>GNB1</td>\n",
       "      <td>NM_002074.5</td>\n",
       "      <td>11</td>\n",
       "      <td>1286</td>\n",
       "      <td>1787328</td>\n",
       "      <td>838.555427</td>\n",
       "    </tr>\n",
       "    <tr>\n",
       "      <th>4</th>\n",
       "      <td>1</td>\n",
       "      <td>1787325</td>\n",
       "      <td>1787442</td>\n",
       "      <td>GNB1</td>\n",
       "      <td>NM_002074.5</td>\n",
       "      <td>11</td>\n",
       "      <td>1314</td>\n",
       "      <td>1787329</td>\n",
       "      <td>856.813243</td>\n",
       "    </tr>\n",
       "    <tr>\n",
       "      <th>...</th>\n",
       "      <td>...</td>\n",
       "      <td>...</td>\n",
       "      <td>...</td>\n",
       "      <td>...</td>\n",
       "      <td>...</td>\n",
       "      <td>...</td>\n",
       "      <td>...</td>\n",
       "      <td>...</td>\n",
       "      <td>...</td>\n",
       "    </tr>\n",
       "    <tr>\n",
       "      <th>233567</th>\n",
       "      <td>X</td>\n",
       "      <td>134425195</td>\n",
       "      <td>134425335</td>\n",
       "      <td>PHF6</td>\n",
       "      <td>NM_001015877.2</td>\n",
       "      <td>10</td>\n",
       "      <td>603</td>\n",
       "      <td>134425330</td>\n",
       "      <td>393.195119</td>\n",
       "    </tr>\n",
       "    <tr>\n",
       "      <th>233568</th>\n",
       "      <td>X</td>\n",
       "      <td>134425195</td>\n",
       "      <td>134425335</td>\n",
       "      <td>PHF6</td>\n",
       "      <td>NM_001015877.2</td>\n",
       "      <td>10</td>\n",
       "      <td>597</td>\n",
       "      <td>134425331</td>\n",
       "      <td>389.282729</td>\n",
       "    </tr>\n",
       "    <tr>\n",
       "      <th>233569</th>\n",
       "      <td>X</td>\n",
       "      <td>134425195</td>\n",
       "      <td>134425335</td>\n",
       "      <td>PHF6</td>\n",
       "      <td>NM_001015877.2</td>\n",
       "      <td>10</td>\n",
       "      <td>592</td>\n",
       "      <td>134425332</td>\n",
       "      <td>386.022405</td>\n",
       "    </tr>\n",
       "    <tr>\n",
       "      <th>233570</th>\n",
       "      <td>X</td>\n",
       "      <td>134425195</td>\n",
       "      <td>134425335</td>\n",
       "      <td>PHF6</td>\n",
       "      <td>NM_001015877.2</td>\n",
       "      <td>10</td>\n",
       "      <td>590</td>\n",
       "      <td>134425333</td>\n",
       "      <td>384.718275</td>\n",
       "    </tr>\n",
       "    <tr>\n",
       "      <th>233571</th>\n",
       "      <td>X</td>\n",
       "      <td>134425195</td>\n",
       "      <td>134425335</td>\n",
       "      <td>PHF6</td>\n",
       "      <td>NM_001015877.2</td>\n",
       "      <td>10</td>\n",
       "      <td>590</td>\n",
       "      <td>134425334</td>\n",
       "      <td>384.718275</td>\n",
       "    </tr>\n",
       "  </tbody>\n",
       "</table>\n",
       "<p>233572 rows × 9 columns</p>\n",
       "</div>"
      ],
      "text/plain": [
       "       chrom  exon_start   exon_end  gene              tx  exon   cov  \\\n",
       "0          1     1787325    1787442  GNB1     NM_002074.5    11  1255   \n",
       "1          1     1787325    1787442  GNB1     NM_002074.5    11  1273   \n",
       "2          1     1787325    1787442  GNB1     NM_002074.5    11  1280   \n",
       "3          1     1787325    1787442  GNB1     NM_002074.5    11  1286   \n",
       "4          1     1787325    1787442  GNB1     NM_002074.5    11  1314   \n",
       "...      ...         ...        ...   ...             ...   ...   ...   \n",
       "233567     X   134425195  134425335  PHF6  NM_001015877.2    10   603   \n",
       "233568     X   134425195  134425335  PHF6  NM_001015877.2    10   597   \n",
       "233569     X   134425195  134425335  PHF6  NM_001015877.2    10   592   \n",
       "233570     X   134425195  134425335  PHF6  NM_001015877.2    10   590   \n",
       "233571     X   134425195  134425335  PHF6  NM_001015877.2    10   590   \n",
       "\n",
       "            range        norm  \n",
       "0         1787325  818.341416  \n",
       "1         1787326  830.078584  \n",
       "2         1787327  834.643038  \n",
       "3         1787328  838.555427  \n",
       "4         1787329  856.813243  \n",
       "...           ...         ...  \n",
       "233567  134425330  393.195119  \n",
       "233568  134425331  389.282729  \n",
       "233569  134425332  386.022405  \n",
       "233570  134425333  384.718275  \n",
       "233571  134425334  384.718275  \n",
       "\n",
       "[233572 rows x 9 columns]"
      ]
     },
     "execution_count": 143,
     "metadata": {},
     "output_type": "execute_result"
    }
   ],
   "source": [
    "# add col of normalised coverage for each sample\n",
    "sample1_per_base['norm'] = sample1_per_base['cov'] * sample1_fraction\n",
    "sample1_per_base"
   ]
  },
  {
   "cell_type": "code",
   "execution_count": 144,
   "metadata": {},
   "outputs": [
    {
     "data": {
      "text/html": [
       "<div>\n",
       "<style scoped>\n",
       "    .dataframe tbody tr th:only-of-type {\n",
       "        vertical-align: middle;\n",
       "    }\n",
       "\n",
       "    .dataframe tbody tr th {\n",
       "        vertical-align: top;\n",
       "    }\n",
       "\n",
       "    .dataframe thead th {\n",
       "        text-align: right;\n",
       "    }\n",
       "</style>\n",
       "<table border=\"1\" class=\"dataframe\">\n",
       "  <thead>\n",
       "    <tr style=\"text-align: right;\">\n",
       "      <th></th>\n",
       "      <th>chrom</th>\n",
       "      <th>exon_start</th>\n",
       "      <th>exon_end</th>\n",
       "      <th>gene</th>\n",
       "      <th>tx</th>\n",
       "      <th>exon</th>\n",
       "      <th>cov</th>\n",
       "      <th>range</th>\n",
       "      <th>norm</th>\n",
       "    </tr>\n",
       "  </thead>\n",
       "  <tbody>\n",
       "    <tr>\n",
       "      <th>0</th>\n",
       "      <td>1</td>\n",
       "      <td>1787325</td>\n",
       "      <td>1787442</td>\n",
       "      <td>GNB1</td>\n",
       "      <td>NM_002074.5</td>\n",
       "      <td>11</td>\n",
       "      <td>1499</td>\n",
       "      <td>1787325</td>\n",
       "      <td>521.554755</td>\n",
       "    </tr>\n",
       "    <tr>\n",
       "      <th>1</th>\n",
       "      <td>1</td>\n",
       "      <td>1787325</td>\n",
       "      <td>1787442</td>\n",
       "      <td>GNB1</td>\n",
       "      <td>NM_002074.5</td>\n",
       "      <td>11</td>\n",
       "      <td>1524</td>\n",
       "      <td>1787326</td>\n",
       "      <td>530.253133</td>\n",
       "    </tr>\n",
       "    <tr>\n",
       "      <th>2</th>\n",
       "      <td>1</td>\n",
       "      <td>1787325</td>\n",
       "      <td>1787442</td>\n",
       "      <td>GNB1</td>\n",
       "      <td>NM_002074.5</td>\n",
       "      <td>11</td>\n",
       "      <td>1527</td>\n",
       "      <td>1787327</td>\n",
       "      <td>531.296939</td>\n",
       "    </tr>\n",
       "    <tr>\n",
       "      <th>3</th>\n",
       "      <td>1</td>\n",
       "      <td>1787325</td>\n",
       "      <td>1787442</td>\n",
       "      <td>GNB1</td>\n",
       "      <td>NM_002074.5</td>\n",
       "      <td>11</td>\n",
       "      <td>1540</td>\n",
       "      <td>1787328</td>\n",
       "      <td>535.820095</td>\n",
       "    </tr>\n",
       "    <tr>\n",
       "      <th>4</th>\n",
       "      <td>1</td>\n",
       "      <td>1787325</td>\n",
       "      <td>1787442</td>\n",
       "      <td>GNB1</td>\n",
       "      <td>NM_002074.5</td>\n",
       "      <td>11</td>\n",
       "      <td>1572</td>\n",
       "      <td>1787329</td>\n",
       "      <td>546.954019</td>\n",
       "    </tr>\n",
       "    <tr>\n",
       "      <th>...</th>\n",
       "      <td>...</td>\n",
       "      <td>...</td>\n",
       "      <td>...</td>\n",
       "      <td>...</td>\n",
       "      <td>...</td>\n",
       "      <td>...</td>\n",
       "      <td>...</td>\n",
       "      <td>...</td>\n",
       "      <td>...</td>\n",
       "    </tr>\n",
       "    <tr>\n",
       "      <th>233567</th>\n",
       "      <td>X</td>\n",
       "      <td>134425195</td>\n",
       "      <td>134425335</td>\n",
       "      <td>PHF6</td>\n",
       "      <td>NM_001015877.2</td>\n",
       "      <td>10</td>\n",
       "      <td>1561</td>\n",
       "      <td>134425330</td>\n",
       "      <td>543.126733</td>\n",
       "    </tr>\n",
       "    <tr>\n",
       "      <th>233568</th>\n",
       "      <td>X</td>\n",
       "      <td>134425195</td>\n",
       "      <td>134425335</td>\n",
       "      <td>PHF6</td>\n",
       "      <td>NM_001015877.2</td>\n",
       "      <td>10</td>\n",
       "      <td>1538</td>\n",
       "      <td>134425331</td>\n",
       "      <td>535.124225</td>\n",
       "    </tr>\n",
       "    <tr>\n",
       "      <th>233569</th>\n",
       "      <td>X</td>\n",
       "      <td>134425195</td>\n",
       "      <td>134425335</td>\n",
       "      <td>PHF6</td>\n",
       "      <td>NM_001015877.2</td>\n",
       "      <td>10</td>\n",
       "      <td>1530</td>\n",
       "      <td>134425332</td>\n",
       "      <td>532.340744</td>\n",
       "    </tr>\n",
       "    <tr>\n",
       "      <th>233570</th>\n",
       "      <td>X</td>\n",
       "      <td>134425195</td>\n",
       "      <td>134425335</td>\n",
       "      <td>PHF6</td>\n",
       "      <td>NM_001015877.2</td>\n",
       "      <td>10</td>\n",
       "      <td>1520</td>\n",
       "      <td>134425333</td>\n",
       "      <td>528.861393</td>\n",
       "    </tr>\n",
       "    <tr>\n",
       "      <th>233571</th>\n",
       "      <td>X</td>\n",
       "      <td>134425195</td>\n",
       "      <td>134425335</td>\n",
       "      <td>PHF6</td>\n",
       "      <td>NM_001015877.2</td>\n",
       "      <td>10</td>\n",
       "      <td>1521</td>\n",
       "      <td>134425334</td>\n",
       "      <td>529.209328</td>\n",
       "    </tr>\n",
       "  </tbody>\n",
       "</table>\n",
       "<p>233572 rows × 9 columns</p>\n",
       "</div>"
      ],
      "text/plain": [
       "       chrom  exon_start   exon_end  gene              tx  exon   cov  \\\n",
       "0          1     1787325    1787442  GNB1     NM_002074.5    11  1499   \n",
       "1          1     1787325    1787442  GNB1     NM_002074.5    11  1524   \n",
       "2          1     1787325    1787442  GNB1     NM_002074.5    11  1527   \n",
       "3          1     1787325    1787442  GNB1     NM_002074.5    11  1540   \n",
       "4          1     1787325    1787442  GNB1     NM_002074.5    11  1572   \n",
       "...      ...         ...        ...   ...             ...   ...   ...   \n",
       "233567     X   134425195  134425335  PHF6  NM_001015877.2    10  1561   \n",
       "233568     X   134425195  134425335  PHF6  NM_001015877.2    10  1538   \n",
       "233569     X   134425195  134425335  PHF6  NM_001015877.2    10  1530   \n",
       "233570     X   134425195  134425335  PHF6  NM_001015877.2    10  1520   \n",
       "233571     X   134425195  134425335  PHF6  NM_001015877.2    10  1521   \n",
       "\n",
       "            range        norm  \n",
       "0         1787325  521.554755  \n",
       "1         1787326  530.253133  \n",
       "2         1787327  531.296939  \n",
       "3         1787328  535.820095  \n",
       "4         1787329  546.954019  \n",
       "...           ...         ...  \n",
       "233567  134425330  543.126733  \n",
       "233568  134425331  535.124225  \n",
       "233569  134425332  532.340744  \n",
       "233570  134425333  528.861393  \n",
       "233571  134425334  529.209328  \n",
       "\n",
       "[233572 rows x 9 columns]"
      ]
     },
     "execution_count": 144,
     "metadata": {},
     "output_type": "execute_result"
    }
   ],
   "source": [
    "sample2_per_base['norm'] = sample2_per_base['cov'] * sample2_fraction\n",
    "sample2_per_base"
   ]
  },
  {
   "cell_type": "code",
   "execution_count": 146,
   "metadata": {},
   "outputs": [
    {
     "data": {
      "text/plain": [
       "0         1339.896171\n",
       "1         1360.331717\n",
       "2         1365.939976\n",
       "3         1374.375522\n",
       "4         1403.767263\n",
       "             ...     \n",
       "233567     936.321852\n",
       "233568     924.406954\n",
       "233569     918.363149\n",
       "233570     913.579668\n",
       "233571     913.927603\n",
       "Name: norm, Length: 233572, dtype: float64"
      ]
     },
     "execution_count": 146,
     "metadata": {},
     "output_type": "execute_result"
    }
   ],
   "source": [
    "mean_cov = sample1_per_base['norm'] + sample2_per_base['norm']\n",
    "mean_cov"
   ]
  },
  {
   "cell_type": "code",
   "execution_count": 147,
   "metadata": {},
   "outputs": [
    {
     "data": {
      "text/plain": [
       "0         1377.0\n",
       "1         1398.5\n",
       "2         1403.5\n",
       "3         1413.0\n",
       "4         1443.0\n",
       "           ...  \n",
       "233567    1082.0\n",
       "233568    1067.5\n",
       "233569    1061.0\n",
       "233570    1055.0\n",
       "233571    1055.5\n",
       "Name: cov, Length: 233572, dtype: float64"
      ]
     },
     "execution_count": 147,
     "metadata": {},
     "output_type": "execute_result"
    }
   ],
   "source": [
    "# crude mean to compare\n",
    "(sample1_per_base['cov'] + sample2_per_base['cov']) / 2"
   ]
  },
  {
   "cell_type": "code",
   "execution_count": 148,
   "metadata": {},
   "outputs": [],
   "source": []
  },
  {
   "cell_type": "code",
   "execution_count": 149,
   "metadata": {},
   "outputs": [
    {
     "data": {
      "text/plain": [
       "111"
      ]
     },
     "execution_count": 149,
     "metadata": {},
     "output_type": "execute_result"
    }
   ],
   "source": []
  },
  {
   "cell_type": "code",
   "execution_count": null,
   "metadata": {},
   "outputs": [],
   "source": []
  }
 ],
 "metadata": {
  "kernelspec": {
   "display_name": "Python 3",
   "language": "python",
   "name": "python3"
  },
  "language_info": {
   "codemirror_mode": {
    "name": "ipython",
    "version": 3
   },
   "file_extension": ".py",
   "mimetype": "text/x-python",
   "name": "python",
   "nbconvert_exporter": "python",
   "pygments_lexer": "ipython3",
   "version": "3.8.10"
  },
  "orig_nbformat": 4
 },
 "nbformat": 4,
 "nbformat_minor": 2
}
